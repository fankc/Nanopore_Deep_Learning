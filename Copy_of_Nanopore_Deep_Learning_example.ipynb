{
  "nbformat": 4,
  "nbformat_minor": 0,
  "metadata": {
    "colab": {
      "name": "Copy of Nanopore_Deep_Learning_example.ipynb",
      "provenance": [],
      "collapsed_sections": [],
      "authorship_tag": "ABX9TyP60YHWCWirGn9NPvC7eVvu",
      "include_colab_link": true
    },
    "kernelspec": {
      "name": "python3",
      "display_name": "Python 3"
    },
    "language_info": {
      "name": "python"
    },
    "accelerator": "GPU"
  },
  "cells": [
    {
      "cell_type": "markdown",
      "metadata": {
        "id": "view-in-github",
        "colab_type": "text"
      },
      "source": [
        "<a href=\"https://colab.research.google.com/github/nshomron/Nanopore_Deep_Learning/blob/master/Copy_of_Nanopore_Deep_Learning_example.ipynb\" target=\"_parent\"><img src=\"https://colab.research.google.com/assets/colab-badge.svg\" alt=\"Open In Colab\"/></a>"
      ]
    },
    {
      "cell_type": "code",
      "metadata": {
        "colab": {
          "base_uri": "https://localhost:8080/"
        },
        "id": "kzZAhpA5YojH",
        "outputId": "4da427ff-f9d9-4ba1-f258-a459cebbcccf"
      },
      "source": [
        "! git clone https://github.com/nshomron/Nanopore_Deep_Learning"
      ],
      "execution_count": 1,
      "outputs": [
        {
          "output_type": "stream",
          "text": [
            "Cloning into 'Nanopore_Deep_Learning'...\n",
            "remote: Enumerating objects: 69, done.\u001b[K\n",
            "remote: Counting objects: 100% (63/63), done.\u001b[K\n",
            "remote: Compressing objects: 100% (56/56), done.\u001b[K\n",
            "remote: Total 69 (delta 22), reused 32 (delta 4), pack-reused 6\u001b[K\n",
            "Unpacking objects: 100% (69/69), done.\n"
          ],
          "name": "stdout"
        }
      ]
    },
    {
      "cell_type": "code",
      "metadata": {
        "id": "Agxr61Amb6n3",
        "colab": {
          "base_uri": "https://localhost:8080/"
        },
        "outputId": "b8a7e409-0201-43d1-82c6-8031bc7b0bcf"
      },
      "source": [
        "!pip install matplotlib"
      ],
      "execution_count": 2,
      "outputs": [
        {
          "output_type": "stream",
          "text": [
            "Requirement already satisfied: matplotlib in /usr/local/lib/python3.7/dist-packages (3.2.2)\n",
            "Requirement already satisfied: python-dateutil>=2.1 in /usr/local/lib/python3.7/dist-packages (from matplotlib) (2.8.1)\n",
            "Requirement already satisfied: numpy>=1.11 in /usr/local/lib/python3.7/dist-packages (from matplotlib) (1.19.5)\n",
            "Requirement already satisfied: kiwisolver>=1.0.1 in /usr/local/lib/python3.7/dist-packages (from matplotlib) (1.3.1)\n",
            "Requirement already satisfied: pyparsing!=2.0.4,!=2.1.2,!=2.1.6,>=2.0.1 in /usr/local/lib/python3.7/dist-packages (from matplotlib) (2.4.7)\n",
            "Requirement already satisfied: cycler>=0.10 in /usr/local/lib/python3.7/dist-packages (from matplotlib) (0.10.0)\n",
            "Requirement already satisfied: six>=1.5 in /usr/local/lib/python3.7/dist-packages (from python-dateutil>=2.1->matplotlib) (1.15.0)\n"
          ],
          "name": "stdout"
        }
      ]
    },
    {
      "cell_type": "code",
      "metadata": {
        "id": "zFCsFdnzb7Vg",
        "colab": {
          "base_uri": "https://localhost:8080/"
        },
        "outputId": "4ff3753f-d52a-4c06-ea60-9da14c8c6eb8"
      },
      "source": [
        "!pip install pandas"
      ],
      "execution_count": 3,
      "outputs": [
        {
          "output_type": "stream",
          "text": [
            "Requirement already satisfied: pandas in /usr/local/lib/python3.7/dist-packages (1.1.5)\n",
            "Requirement already satisfied: pytz>=2017.2 in /usr/local/lib/python3.7/dist-packages (from pandas) (2018.9)\n",
            "Requirement already satisfied: numpy>=1.15.4 in /usr/local/lib/python3.7/dist-packages (from pandas) (1.19.5)\n",
            "Requirement already satisfied: python-dateutil>=2.7.3 in /usr/local/lib/python3.7/dist-packages (from pandas) (2.8.1)\n",
            "Requirement already satisfied: six>=1.5 in /usr/local/lib/python3.7/dist-packages (from python-dateutil>=2.7.3->pandas) (1.15.0)\n"
          ],
          "name": "stdout"
        }
      ]
    },
    {
      "cell_type": "code",
      "metadata": {
        "id": "Nx0D6Fwlb7kZ",
        "colab": {
          "base_uri": "https://localhost:8080/"
        },
        "outputId": "283fd6d2-b9c7-4e42-b960-b0bf155c72b7"
      },
      "source": [
        "!pip install numpy"
      ],
      "execution_count": 4,
      "outputs": [
        {
          "output_type": "stream",
          "text": [
            "Requirement already satisfied: numpy in /usr/local/lib/python3.7/dist-packages (1.19.5)\n"
          ],
          "name": "stdout"
        }
      ]
    },
    {
      "cell_type": "code",
      "metadata": {
        "id": "b-YlL5ewb7uT",
        "colab": {
          "base_uri": "https://localhost:8080/"
        },
        "outputId": "44893e68-639b-442d-8a18-9385b049f6e0"
      },
      "source": [
        "!pip install scikit_learn"
      ],
      "execution_count": 5,
      "outputs": [
        {
          "output_type": "stream",
          "text": [
            "Requirement already satisfied: scikit_learn in /usr/local/lib/python3.7/dist-packages (0.22.2.post1)\n",
            "Requirement already satisfied: numpy>=1.11.0 in /usr/local/lib/python3.7/dist-packages (from scikit_learn) (1.19.5)\n",
            "Requirement already satisfied: joblib>=0.11 in /usr/local/lib/python3.7/dist-packages (from scikit_learn) (1.0.1)\n",
            "Requirement already satisfied: scipy>=0.17.0 in /usr/local/lib/python3.7/dist-packages (from scikit_learn) (1.4.1)\n"
          ],
          "name": "stdout"
        }
      ]
    },
    {
      "cell_type": "code",
      "metadata": {
        "id": "1ozG21Ejb73S",
        "colab": {
          "base_uri": "https://localhost:8080/"
        },
        "outputId": "29f93df5-5834-4ffb-9e7a-f718aa41897d"
      },
      "source": [
        "!pip install torch==1.8.1"
      ],
      "execution_count": 6,
      "outputs": [
        {
          "output_type": "stream",
          "text": [
            "Requirement already satisfied: torch==1.8.1 in /usr/local/lib/python3.7/dist-packages (1.8.1+cu101)\n",
            "Requirement already satisfied: typing-extensions in /usr/local/lib/python3.7/dist-packages (from torch==1.8.1) (3.7.4.3)\n",
            "Requirement already satisfied: numpy in /usr/local/lib/python3.7/dist-packages (from torch==1.8.1) (1.19.5)\n"
          ],
          "name": "stdout"
        }
      ]
    },
    {
      "cell_type": "code",
      "metadata": {
        "id": "97CmuhAjb8ZD",
        "colab": {
          "base_uri": "https://localhost:8080/"
        },
        "outputId": "f084dfad-ddc8-43bb-e297-d535bba4a4f7"
      },
      "source": [
        "!pip install torchvision==0.9.1"
      ],
      "execution_count": 7,
      "outputs": [
        {
          "output_type": "stream",
          "text": [
            "Requirement already satisfied: torchvision==0.9.1 in /usr/local/lib/python3.7/dist-packages (0.9.1+cu101)\n",
            "Requirement already satisfied: numpy in /usr/local/lib/python3.7/dist-packages (from torchvision==0.9.1) (1.19.5)\n",
            "Requirement already satisfied: torch==1.8.1 in /usr/local/lib/python3.7/dist-packages (from torchvision==0.9.1) (1.8.1+cu101)\n",
            "Requirement already satisfied: pillow>=4.1.1 in /usr/local/lib/python3.7/dist-packages (from torchvision==0.9.1) (7.1.2)\n",
            "Requirement already satisfied: typing-extensions in /usr/local/lib/python3.7/dist-packages (from torch==1.8.1->torchvision==0.9.1) (3.7.4.3)\n"
          ],
          "name": "stdout"
        }
      ]
    },
    {
      "cell_type": "code",
      "metadata": {
        "id": "qPBuuh4vZieT",
        "colab": {
          "base_uri": "https://localhost:8080/"
        },
        "outputId": "6473c9ca-3803-4ad1-ff5e-76af5564d733"
      },
      "source": [
        "%cd Nanopore_Deep_Learning"
      ],
      "execution_count": 8,
      "outputs": [
        {
          "output_type": "stream",
          "text": [
            "/content/Nanopore_Deep_Learning\n"
          ],
          "name": "stdout"
        }
      ]
    },
    {
      "cell_type": "code",
      "metadata": {
        "id": "JUR6YNrfZjk-",
        "colab": {
          "base_uri": "https://localhost:8080/"
        },
        "outputId": "8ce8d3ec-f9b7-4a4b-be29-1545839405df"
      },
      "source": [
        "!python nanopore_training.py --hidden-size 512 --batch-size 32 --max-iter 100 --gpu"
      ],
      "execution_count": 9,
      "outputs": [
        {
          "output_type": "stream",
          "text": [
            "Loading:  FAF13387-Hek_run1.minimap2.not-Mito5KbTrain.csv\n",
            "Loading:  FAF13387-Hek_run1.minimap2.Mito5KbTrain.csv\n",
            "Loading:  FAF13387-Hek_run1.minimap2.not-Mito5KbTest.csv\n",
            "Loading:  FAF13387-Hek_run1.minimap2.Mito5KbTest.csv\n",
            "Size of the training Chrom and Mito:\n",
            "1000\n",
            "692\n",
            "Size of the testing Chrom and Mito:\n",
            "1000\n",
            "77\n",
            "working folder is:  13Jul_bnLSTM_32win_512Hidden_1layer_winlen32_withDropout_outputLastStep\n",
            "13Jul\n",
            "bnLSTM\n",
            "32win\n",
            "512Hidden\n",
            "1layer\n",
            "winlen32\n",
            "withDropout\n",
            "outputLastStep\n",
            "epoch:  0  | batch number:  20  | start/current LR: 0.001 , 0.001\n",
            "loss is:  0.7080  \n",
            "and acc is:  0.5000\n",
            "acc for classes:  [0.5625 0.4375]\n",
            " {0: 36, 1: 28}\n",
            "Mito Is in Epoch:  1\n",
            "Chrom Is in Epoch:  0\n",
            "Mito Is in Epoch:  1\n",
            "Chrom Is in Epoch:  0\n",
            "epoch:  1  | batch number:  40  | start/current LR: 0.001 , 0.001\n",
            "loss is:  0.6910  \n",
            "and acc is:  0.5938\n",
            "acc for classes:  [0.5    0.6875]\n",
            " {0: 26, 1: 38}\n",
            "Mito Is in Epoch:  2\n",
            "Chrom Is in Epoch:  1\n",
            "Traceback (most recent call last):\n",
            "  File \"nanopore_training.py\", line 602, in <module>\n",
            "    main()\n",
            "  File \"nanopore_training.py\", line 382, in main\n",
            "    model = model, validation = True)\n",
            "  File \"nanopore_training.py\", line 250, in compute_loss_accuracy\n",
            "    logits = model(input_=data)\n",
            "  File \"/usr/local/lib/python3.7/dist-packages/torch/nn/modules/module.py\", line 889, in _call_impl\n",
            "    result = self.forward(*input, **kwargs)\n",
            "  File \"/content/Nanopore_Deep_Learning/nanopore_models.py\", line 345, in forward\n",
            "    cell=cell, input_=input_, length=length, hx=hx)\n",
            "  File \"/content/Nanopore_Deep_Learning/nanopore_models.py\", line 304, in _forward_rnn\n",
            "    h_next, c_next = cell(input_=input_[time], hx=hx, time=time)\n",
            "  File \"/usr/local/lib/python3.7/dist-packages/torch/nn/modules/module.py\", line 889, in _call_impl\n",
            "    result = self.forward(*input, **kwargs)\n",
            "  File \"/content/Nanopore_Deep_Learning/nanopore_models.py\", line 155, in forward\n",
            "    c_1 = torch.sigmoid(f)*c_0 + torch.sigmoid(i)*torch.tanh(g)\n",
            "KeyboardInterrupt\n"
          ],
          "name": "stdout"
        }
      ]
    }
  ]
}